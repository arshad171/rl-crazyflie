{
 "cells": [
  {
   "cell_type": "code",
   "execution_count": 1,
   "metadata": {},
   "outputs": [],
   "source": [
    "import os\n",
    "import plotly.express as px\n",
    "from plotly.subplots import make_subplots\n",
    "import plotly.graph_objects as go\n",
    "import pandas as pd\n",
    "import numpy as np\n",
    "import json"
   ]
  },
  {
   "cell_type": "code",
   "execution_count": 18,
   "metadata": {},
   "outputs": [],
   "source": [
    "INIT = \"t\"\n",
    "SAVE_PATH = \"../results_cmp_rewards_{}.{}\""
   ]
  },
  {
   "cell_type": "code",
   "execution_count": 3,
   "metadata": {},
   "outputs": [],
   "source": [
    "models = {\n",
    "    \"b_dist-lstm-v-61\": {\"path\" : f\"../results-nav-b_dist-lstm-v-61/plt/i{INIT}/\", \"color\": \"purple\"},\n",
    "    # \"dist-err-rew-wi-v-50\": {\"path\" : f\"../results-nav-dist-err-rew-w_i-v-50/plt/i{INIT}/\", \"color\": \"red\"},\n",
    "    \"b_dist-err-rew-wi-v-51\": {\"path\" : f\"../results-nav-b_dist-err-rew-w_i-v-51/plt/i{INIT}/\", \"color\": \"orange\"},\n",
    "    # \"dist-v-3\": {\"path\" : f\"../results-nav-dist-v-3/plt/i{INIT}/\", \"color\": \"blue\"},\n",
    "    \"b_dist-v-31\": {\"path\" : f\"../results-nav-b_dist-v-31/plt/i{INIT}/\", \"color\": \"blue\"},\n",
    "    \"v-21\": {\"path\" : f\"../results-nav-v-21/plt/i{INIT}/\", \"color\": \"green\"},\n",
    "}"
   ]
  },
  {
   "cell_type": "code",
   "execution_count": 20,
   "metadata": {},
   "outputs": [],
   "source": [
    "dist_dirs = [\"x\", \"z\", \"xyz\"]\n",
    "\n",
    "for dir in dist_dirs:\n",
    "    fig = px.line()\n",
    "    fig.update_layout(\n",
    "        title_text=f\"Disturbance Direction: {dir}\",\n",
    "        title_xanchor=\"center\",\n",
    "        title_x=0.5,\n",
    "        xaxis_title=\"Magnitude of Disturbace\",\n",
    "        yaxis_title=\"Expected Reward\",\n",
    "    )\n",
    "    for mdl in models:\n",
    "        df = pd.read_csv(os.path.join(models[mdl][\"path\"], \"ext_dists_res_df.csv\"))\n",
    "        df[\"dist_mag\"] = df.apply(lambda row: np.sum(list(map(float, list(row[\"dist\"][1:-1].split())))), axis=1)\n",
    "\n",
    "        temp_df = df[df.dir == dir]\n",
    "        temp_df = temp_df.sort_values(by=[\"dist_mag\"])\n",
    "\n",
    "        fig.add_scatter(\n",
    "            x=temp_df.dist_mag,\n",
    "            y=temp_df.mean_step_reward,\n",
    "            line=dict(color=models[mdl][\"color\"]),\n",
    "            name=mdl\n",
    "        )\n",
    "\n",
    "    # fig.show()\n",
    "    fig.write_image(SAVE_PATH.format(dir, \"png\"))\n",
    "    fig.write_html(SAVE_PATH.format(dir, \"html\"))\n"
   ]
  }
 ],
 "metadata": {
  "kernelspec": {
   "display_name": "rl-crazyflie-mo-1",
   "language": "python",
   "name": "python3"
  },
  "language_info": {
   "codemirror_mode": {
    "name": "ipython",
    "version": 3
   },
   "file_extension": ".py",
   "mimetype": "text/x-python",
   "name": "python",
   "nbconvert_exporter": "python",
   "pygments_lexer": "ipython3",
   "version": "3.8.17"
  },
  "orig_nbformat": 4
 },
 "nbformat": 4,
 "nbformat_minor": 2
}
