{
 "cells": [
  {
   "cell_type": "code",
   "execution_count": 110,
   "metadata": {},
   "outputs": [],
   "source": [
    "import os\n",
    "import pandas as pd\n",
    "import numpy as np"
   ]
  },
  {
   "cell_type": "code",
   "execution_count": 111,
   "metadata": {},
   "outputs": [],
   "source": [
    "# PATH = \"../nav-results1-baseline/plt/ly\"\n",
    "PATH = \"../nav-results3-dist-err/plt/ly\""
   ]
  },
  {
   "cell_type": "code",
   "execution_count": 112,
   "metadata": {},
   "outputs": [],
   "source": [
    "files = os.listdir(PATH)\n",
    "\n",
    "files = list(\n",
    "    filter(\n",
    "        lambda name: name.startswith(\"x\")\n",
    "        or name.startswith(\"y\")\n",
    "        or name.startswith(\"z\")\n",
    "        or name.startswith(\"xyz\"),\n",
    "        files,\n",
    "    )\n",
    ")"
   ]
  },
  {
   "cell_type": "code",
   "execution_count": 113,
   "metadata": {},
   "outputs": [
    {
     "name": "stdout",
     "output_type": "stream",
     "text": [
      "0.0062209526169360084 0.0113811795265087\n"
     ]
    }
   ],
   "source": [
    "epsilons = []\n",
    "\n",
    "for file in files:\n",
    "    df = pd.read_csv(filepath_or_buffer=os.path.join(PATH, file))\n",
    "    rews = -df.reward.to_numpy()\n",
    "\n",
    "    rews_sub = rews[:-1] - rews[1:]\n",
    "\n",
    "    epsilon = np.max(np.abs(rews_sub[rews_sub < 0]))\n",
    "\n",
    "    epsilons.append(epsilon)\n",
    "\n",
    "    assert np.all(rews_sub > 0 - 1.1 * epsilon) == True, \"error in cmp\"\n",
    "\n",
    "print(np.mean(epsilons), np.max(epsilons))"
   ]
  }
 ],
 "metadata": {
  "kernelspec": {
   "display_name": "rl-crazyflie",
   "language": "python",
   "name": "python3"
  },
  "language_info": {
   "codemirror_mode": {
    "name": "ipython",
    "version": 3
   },
   "file_extension": ".py",
   "mimetype": "text/x-python",
   "name": "python",
   "nbconvert_exporter": "python",
   "pygments_lexer": "ipython3",
   "version": "3.9.16"
  }
 },
 "nbformat": 4,
 "nbformat_minor": 2
}
